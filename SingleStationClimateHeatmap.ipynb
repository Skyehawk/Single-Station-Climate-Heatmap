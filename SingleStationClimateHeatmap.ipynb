{
 "cells": [
  {
   "cell_type": "code",
   "execution_count": 343,
   "metadata": {},
   "outputs": [],
   "source": [
    "import numpy as np\n",
    "import matplotlib.pyplot as plt\n",
    "import pandas as pd\n",
    "import seaborn as sns\n",
    "import itertools\n",
    "%matplotlib inline\n"
   ]
  },
  {
   "cell_type": "code",
   "execution_count": 344,
   "metadata": {},
   "outputs": [
    {
     "data": {
      "text/html": [
       "<div>\n",
       "<style scoped>\n",
       "    .dataframe tbody tr th:only-of-type {\n",
       "        vertical-align: middle;\n",
       "    }\n",
       "\n",
       "    .dataframe tbody tr th {\n",
       "        vertical-align: top;\n",
       "    }\n",
       "\n",
       "    .dataframe thead th {\n",
       "        text-align: right;\n",
       "    }\n",
       "</style>\n",
       "<table border=\"1\" class=\"dataframe\">\n",
       "  <thead>\n",
       "    <tr style=\"text-align: right;\">\n",
       "      <th></th>\n",
       "      <th>Year</th>\n",
       "      <th>Jan</th>\n",
       "      <th>Feb</th>\n",
       "      <th>Mar</th>\n",
       "      <th>Apr</th>\n",
       "      <th>May</th>\n",
       "      <th>Jun</th>\n",
       "      <th>Jul</th>\n",
       "      <th>Aug</th>\n",
       "      <th>Sep</th>\n",
       "      <th>Oct</th>\n",
       "      <th>Nov</th>\n",
       "      <th>Dec</th>\n",
       "      <th>Total</th>\n",
       "    </tr>\n",
       "  </thead>\n",
       "  <tbody>\n",
       "    <tr>\n",
       "      <th>0</th>\n",
       "      <td>1965.0</td>\n",
       "      <td>NaN</td>\n",
       "      <td>NaN</td>\n",
       "      <td>NaN</td>\n",
       "      <td>2.92</td>\n",
       "      <td>3.91</td>\n",
       "      <td>3.57</td>\n",
       "      <td>3.72</td>\n",
       "      <td>1.87</td>\n",
       "      <td>5.57</td>\n",
       "      <td>1.11</td>\n",
       "      <td>1.23</td>\n",
       "      <td>0.60</td>\n",
       "      <td>NaN</td>\n",
       "    </tr>\n",
       "    <tr>\n",
       "      <th>1</th>\n",
       "      <td>1966.0</td>\n",
       "      <td>0.37</td>\n",
       "      <td>0.49</td>\n",
       "      <td>3.08</td>\n",
       "      <td>1.09</td>\n",
       "      <td>1.29</td>\n",
       "      <td>2.78</td>\n",
       "      <td>7.31</td>\n",
       "      <td>3.30</td>\n",
       "      <td>0.58</td>\n",
       "      <td>0.85</td>\n",
       "      <td>0.31</td>\n",
       "      <td>0.92</td>\n",
       "      <td>22.37</td>\n",
       "    </tr>\n",
       "    <tr>\n",
       "      <th>2</th>\n",
       "      <td>1967.0</td>\n",
       "      <td>1.76</td>\n",
       "      <td>0.32</td>\n",
       "      <td>0.56</td>\n",
       "      <td>3.20</td>\n",
       "      <td>0.14</td>\n",
       "      <td>2.45</td>\n",
       "      <td>0.58</td>\n",
       "      <td>0.34</td>\n",
       "      <td>1.35</td>\n",
       "      <td>1.12</td>\n",
       "      <td>0.09</td>\n",
       "      <td>0.82</td>\n",
       "      <td>12.73</td>\n",
       "    </tr>\n",
       "    <tr>\n",
       "      <th>3</th>\n",
       "      <td>1968.0</td>\n",
       "      <td>0.53</td>\n",
       "      <td>0.11</td>\n",
       "      <td>0.74</td>\n",
       "      <td>2.50</td>\n",
       "      <td>1.58</td>\n",
       "      <td>6.48</td>\n",
       "      <td>4.89</td>\n",
       "      <td>3.59</td>\n",
       "      <td>1.65</td>\n",
       "      <td>0.46</td>\n",
       "      <td>0.18</td>\n",
       "      <td>0.66</td>\n",
       "      <td>23.37</td>\n",
       "    </tr>\n",
       "    <tr>\n",
       "      <th>4</th>\n",
       "      <td>1969.0</td>\n",
       "      <td>1.58</td>\n",
       "      <td>0.54</td>\n",
       "      <td>0.15</td>\n",
       "      <td>0.62</td>\n",
       "      <td>2.09</td>\n",
       "      <td>4.69</td>\n",
       "      <td>1.42</td>\n",
       "      <td>1.97</td>\n",
       "      <td>3.61</td>\n",
       "      <td>1.12</td>\n",
       "      <td>0.05</td>\n",
       "      <td>0.76</td>\n",
       "      <td>18.60</td>\n",
       "    </tr>\n",
       "  </tbody>\n",
       "</table>\n",
       "</div>"
      ],
      "text/plain": [
       "     Year   Jan   Feb   Mar   Apr   May   Jun   Jul   Aug   Sep   Oct   Nov  \\\n",
       "0  1965.0   NaN   NaN   NaN  2.92  3.91  3.57  3.72  1.87  5.57  1.11  1.23   \n",
       "1  1966.0  0.37  0.49  3.08  1.09  1.29  2.78  7.31  3.30  0.58  0.85  0.31   \n",
       "2  1967.0  1.76  0.32  0.56  3.20  0.14  2.45  0.58  0.34  1.35  1.12  0.09   \n",
       "3  1968.0  0.53  0.11  0.74  2.50  1.58  6.48  4.89  3.59  1.65  0.46  0.18   \n",
       "4  1969.0  1.58  0.54  0.15  0.62  2.09  4.69  1.42  1.97  3.61  1.12  0.05   \n",
       "\n",
       "    Dec  Total  \n",
       "0  0.60    NaN  \n",
       "1  0.92  22.37  \n",
       "2  0.82  12.73  \n",
       "3  0.66  23.37  \n",
       "4  0.76  18.60  "
      ]
     },
     "execution_count": 344,
     "metadata": {},
     "output_type": "execute_result"
    }
   ],
   "source": [
    "sns.set(style='white')\n",
    "path = 'D:\\Libraries\\Documents\\Grad_School\\Climate_Data\\GFK\\Precip\\Monthly1965-2020.csv'\n",
    "data = pd.read_csv(path, dtype=float)\n",
    "data.head()"
   ]
  },
  {
   "cell_type": "code",
   "execution_count": 345,
   "metadata": {
    "scrolled": true
   },
   "outputs": [],
   "source": [
    "vals = data.to_numpy()[:,1:13]\n",
    "moMeans = np.nanmean(vals,axis=0)#climatological period using alldata\n",
    "moMeansT = np.nanmean(vals[15:47],axis=0)#the Srandard climatological period of 81-2010\n",
    "meanDeparts = vals - moMeansT\n",
    "mask = np.where(vals == np.nan, True, False)\n"
   ]
  },
  {
   "cell_type": "code",
   "execution_count": 346,
   "metadata": {},
   "outputs": [
    {
     "data": {
      "image/png": "[encoded data removed]",
      "text/plain": [
       "<Figure size 792x360 with 2 Axes>"
      ]
     },
     "metadata": {},
     "output_type": "display_data"
    }
   ],
   "source": [
    "f, ax = plt.subplots(figsize=(11,5), constrained_layout=True)\n",
    "cmap = sns.diverging_palette(10, 220, as_cmap=True)\n",
    "sns.heatmap(meanDeparts.T, cmap=cmap, mask=mask.T, robust=True, center=0,\n",
    "            square=True, linewidths=.5, \n",
    "            cbar_kws={\"shrink\": .4, \"label\": 'Inches'})\n",
    "\n",
    "# adjust labels\n",
    "xLabels = list(data.iloc[:,0]) \n",
    "xLabels =[int(i) for i in xLabels]\n",
    "yLabels = list(data.columns)[1:13]\n",
    "ax.set_xticklabels(xLabels[::2])\n",
    "plt.xticks(rotation=90)\n",
    "ax.set_yticklabels(yLabels)\n",
    "plt.yticks(rotation=0)\n",
    "ax.set_title('MONTHLY PRECIP MEAN DEPARTURES - GRAND FORKS INTL AP, ND - CLIMATOLOGICAL PER. 1981-2010',\n",
    "            fontsize=14)\n",
    "\n",
    "plt.text(0, -.50, 'Data: NWS\\n© 2020 Skye Leake', horizontalalignment='left',\n",
    "     verticalalignment='bottom', transform=ax.transAxes)\n",
    "\n",
    "plt.savefig(path[:-4] + '_ClimPer1965-2020.png')"
   ]
  },
  {
   "cell_type": "code",
   "execution_count": 347,
   "metadata": {},
   "outputs": [],
   "source": [
    "def find_runs(x):\n",
    "    \"\"\"Find runs of consecutive items in an array.\"\"\"\n",
    "\n",
    "    # ensure array\n",
    "    x = np.asanyarray(x)\n",
    "    if x.ndim != 1:\n",
    "        raise ValueError('only 1D array supported')\n",
    "    n = x.shape[0]\n",
    "\n",
    "    # handle empty array\n",
    "    if n == 0:\n",
    "        return np.array([]), np.array([]), np.array([])\n",
    "\n",
    "    else:\n",
    "        # find run starts\n",
    "        loc_run_start = np.empty(n, dtype=bool)\n",
    "        loc_run_start[0] = True\n",
    "        np.not_equal(x[:-1], x[1:], out=loc_run_start[1:])\n",
    "        run_starts = np.nonzero(loc_run_start)[0]\n",
    "\n",
    "        # find run values\n",
    "        run_values = x[loc_run_start]\n",
    "\n",
    "        # find run lengths\n",
    "        run_lengths = np.diff(np.append(run_starts, n))\n",
    "\n",
    "        return run_values, run_starts, run_lengths"
   ]
  },
  {
   "cell_type": "code",
   "execution_count": 351,
   "metadata": {},
   "outputs": [
    {
     "name": "stdout",
     "output_type": "stream",
     "text": [
      "Longest run(s) above average: 8\n",
      "The(se) longest run(s) initiated on:\n",
      "[['Aug' '1979']]\n",
      "These runs start on Mar and roll over to the following year at the conclusion of Oct.\n"
     ]
    }
   ],
   "source": [
    "#skip seasons to find streches of extended +/- departures\n",
    "\n",
    "monthMin = 3 #1:Jan, 12:Dec\n",
    "monthMax = 11 #EXCLUSIVE maximum month\n",
    "yearMin = 1965\n",
    "yearMax = 2021\n",
    "\n",
    "\n",
    "years = xLabels\n",
    "months = yLabels\n",
    "yyears,mmonths = np.meshgrid(years, months)\n",
    "dates = np.array(list(zip(mmonths, yyears))).T\n",
    "dates = np.array([x.T for x in dates[:]])\n",
    "dates = dates.reshape(len(years),len(months), 2)[:,monthMin-1:monthMax-1,:]\n",
    "dates = dates.reshape(dates.shape[0]*dates.shape[1], 2) #    # of years is multiplied by # of months sliced\n",
    "#print(dates[:20])\n",
    "\n",
    "meanDepartsFilter = np.nan_to_num(meanDeparts, nan=-999)\n",
    "meanDepartsFilter = meanDepartsFilter[:,monthMin-1:monthMax-1]\n",
    "extDev = np.where(meanDepartsFilter.flatten(order='C')< 0.0, 1, 0) #flip the comparitor to swap between periods of wet (>) vs dry(<)\n",
    "\n",
    "runVals, runStarts, runLengths = find_runs(extDev)\n",
    "runVals1 = np.where(runVals==1)\n",
    "runStarts1 = runStarts[runVals1]\n",
    "runLengths1 = runLengths[runVals1]\n",
    "\n",
    "print(f'Longest run(s) above average: {max(runLengths1)}')\n",
    "#print(f'The(se) longest run(s) initiated at: {np.where(runLengths==max(runLengths))}')\n",
    "print(f'The(se) longest run(s) initiated on:\\n{dates[runStarts1[np.where(runLengths1 == max(runLengths1))]]}')\n",
    "print(f'These runs start on {yLabels[monthMin-1]} and roll over to the following year at the conclusion of {yLabels[monthMax-2]}.')"
   ]
  },
  {
   "cell_type": "code",
   "execution_count": null,
   "metadata": {},
   "outputs": [],
   "source": []
  },
  {
   "cell_type": "code",
   "execution_count": null,
   "metadata": {
    "collapsed": true
   },
   "outputs": [],
   "source": []
  },
  {
   "cell_type": "code",
   "execution_count": null,
   "metadata": {},
   "outputs": [],
   "source": []
  },
  {
   "cell_type": "code",
   "execution_count": null,
   "metadata": {},
   "outputs": [],
   "source": []
  }
 ],
 "metadata": {
  "kernelspec": {
   "display_name": "Python 3",
   "language": "python",
   "name": "python3"
  },
  "language_info": {
   "codemirror_mode": {
    "name": "ipython",
    "version": 3
   },
   "file_extension": ".py",
   "mimetype": "text/x-python",
   "name": "python",
   "nbconvert_exporter": "python",
   "pygments_lexer": "ipython3",
   "version": "3.7.1"
  }
 },
 "nbformat": 4,
 "nbformat_minor": 4
}
